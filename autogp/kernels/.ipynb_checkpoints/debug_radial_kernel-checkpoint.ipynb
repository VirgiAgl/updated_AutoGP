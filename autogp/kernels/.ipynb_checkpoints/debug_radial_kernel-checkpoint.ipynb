{
 "cells": [
  {
   "cell_type": "code",
   "execution_count": 136,
   "metadata": {
    "collapsed": true
   },
   "outputs": [],
   "source": [
    "import numpy as np\n",
    "import tensorflow as tf\n",
    "import math\n",
    "import matplotlib.pyplot as plt\n",
    "\n",
    "import kernel"
   ]
  },
  {
   "cell_type": "code",
   "execution_count": 137,
   "metadata": {
    "collapsed": true
   },
   "outputs": [],
   "source": [
    "def eye(N):\n",
    "    return tf.diag(tf.ones(tf.stack([N, ]), dtype='float32'))\n"
   ]
  },
  {
   "cell_type": "code",
   "execution_count": 138,
   "metadata": {
    "collapsed": true
   },
   "outputs": [],
   "source": [
    "# Generate synthetic data.\n",
    "N_all = 200\n",
    "N = 5\n",
    "inputs = 5 * np.linspace(0, 1, num=N_all)[:, np.newaxis]\n",
    "outputs = np.sin(inputs)\n",
    "\n",
    "# selects training and test\n",
    "idx = np.arange(N_all)\n",
    "np.random.shuffle(idx)\n",
    "xtrain = inputs[idx[:N]]\n",
    "ytrain = outputs[idx[:N]]"
   ]
  },
  {
   "cell_type": "code",
   "execution_count": 139,
   "metadata": {
    "collapsed": false
   },
   "outputs": [],
   "source": [
    "inducing_inputs = xtrain\n",
    "points1 = inducing_inputs\n",
    "points2 = points1\n",
    "\n",
    "points1 = np.array([[2.06030151], [2.33668342],[2.21105528],[1.75879397], [2.91457286]])\n",
    "points2 = np.array([[2.06030151], [2.33668342],[2.21105528],[1.75879397], [2.91457286]])\n"
   ]
  },
  {
   "cell_type": "code",
   "execution_count": 140,
   "metadata": {
    "collapsed": true
   },
   "outputs": [],
   "source": [
    "input_dim = 1\n",
    "lengthscale = 1.0\n",
    "std_dev=1.0\n",
    "white=0.5\n",
    "input_scaling=False\n",
    "MAX_DIST = 1e8"
   ]
  },
  {
   "cell_type": "code",
   "execution_count": 141,
   "metadata": {
    "collapsed": false
   },
   "outputs": [],
   "source": [
    "if input_scaling:\n",
    "    lengthscale = tf.Variable(lengthscale * tf.ones([input_dim]))\n",
    "else:\n",
    "    lengthscale = tf.Variable([lengthscale], dtype=tf.float32)\n",
    "\n",
    "std_dev = tf.Variable([std_dev], dtype=tf.float32)"
   ]
  },
  {
   "cell_type": "code",
   "execution_count": 142,
   "metadata": {
    "collapsed": false
   },
   "outputs": [],
   "source": [
    "if all(points2) == all(points1):\n",
    "    white_noise = white * eye(tf.shape(points1)[0]) \n",
    "else: \n",
    "    white_noise = 0.0  "
   ]
  },
  {
   "cell_type": "code",
   "execution_count": 143,
   "metadata": {
    "collapsed": false
   },
   "outputs": [
    {
     "data": {
      "text/plain": [
       "<tf.Tensor 'mul_20:0' shape=(?, ?) dtype=float32>"
      ]
     },
     "execution_count": 143,
     "metadata": {},
     "output_type": "execute_result"
    }
   ],
   "source": [
    "white_noise"
   ]
  },
  {
   "cell_type": "code",
   "execution_count": 144,
   "metadata": {
    "collapsed": false
   },
   "outputs": [
    {
     "data": {
      "text/plain": [
       "<tf.Tensor 'div_15:0' shape=(5, 1) dtype=float32>"
      ]
     },
     "execution_count": 144,
     "metadata": {},
     "output_type": "execute_result"
    }
   ],
   "source": [
    "points1 = points1 / lengthscale\n",
    "points1"
   ]
  },
  {
   "cell_type": "code",
   "execution_count": 145,
   "metadata": {
    "collapsed": true
   },
   "outputs": [],
   "source": [
    "points2 = points2 / lengthscale"
   ]
  },
  {
   "cell_type": "code",
   "execution_count": 146,
   "metadata": {
    "collapsed": false
   },
   "outputs": [
    {
     "data": {
      "text/plain": [
       "<tf.Tensor 'div_16:0' shape=(5, 1) dtype=float32>"
      ]
     },
     "execution_count": 146,
     "metadata": {},
     "output_type": "execute_result"
    }
   ],
   "source": [
    "points2"
   ]
  },
  {
   "cell_type": "code",
   "execution_count": 147,
   "metadata": {
    "collapsed": false
   },
   "outputs": [
    {
     "data": {
      "text/plain": [
       "<tf.Tensor 'Sum_17:0' shape=(5,) dtype=float32>"
      ]
     },
     "execution_count": 147,
     "metadata": {},
     "output_type": "execute_result"
    }
   ],
   "source": [
    "tf.reduce_sum(points1 ** 2, 1) #riduco le colonne quindi sommo x1^2 e x2^2"
   ]
  },
  {
   "cell_type": "code",
   "execution_count": 148,
   "metadata": {
    "collapsed": false
   },
   "outputs": [
    {
     "data": {
      "text/plain": [
       "<tf.Tensor 'ExpandDims_13:0' shape=(5, 1) dtype=float32>"
      ]
     },
     "execution_count": 148,
     "metadata": {},
     "output_type": "execute_result"
    }
   ],
   "source": [
    "magnitude_square1 = tf.expand_dims(tf.reduce_sum(points1 ** 2, 1), 1)\n",
    "magnitude_square2 = tf.expand_dims(tf.reduce_sum(points2 ** 2, 1), 1)\n",
    "magnitude_square2"
   ]
  },
  {
   "cell_type": "code",
   "execution_count": 149,
   "metadata": {
    "collapsed": true
   },
   "outputs": [],
   "source": [
    "distances = (magnitude_square1 \n",
    "             - 2 * tf.matmul(points1, tf.transpose(points2)) +\n",
    "            tf.transpose(magnitude_square2))"
   ]
  },
  {
   "cell_type": "code",
   "execution_count": 150,
   "metadata": {
    "collapsed": false
   },
   "outputs": [
    {
     "data": {
      "text/plain": [
       "<tf.Tensor 'add_15:0' shape=(5, 5) dtype=float32>"
      ]
     },
     "execution_count": 150,
     "metadata": {},
     "output_type": "execute_result"
    }
   ],
   "source": [
    "distances"
   ]
  },
  {
   "cell_type": "code",
   "execution_count": 151,
   "metadata": {
    "collapsed": false
   },
   "outputs": [
    {
     "ename": "TypeError",
     "evalue": "clip_by_value() takes at least 3 arguments (1 given)",
     "output_type": "error",
     "traceback": [
      "\u001b[1;31m---------------------------------------------------------------------------\u001b[0m",
      "\u001b[1;31mTypeError\u001b[0m                                 Traceback (most recent call last)",
      "\u001b[1;32m<ipython-input-151-bc157904ab23>\u001b[0m in \u001b[0;36m<module>\u001b[1;34m()\u001b[0m\n\u001b[0;32m      1\u001b[0m \u001b[1;31m#distances = tf.clip_by_value(distances, 0.0, MAX_DIST)\u001b[0m\u001b[1;33m\u001b[0m\u001b[1;33m\u001b[0m\u001b[0m\n\u001b[1;32m----> 2\u001b[1;33m \u001b[0mdistances\u001b[0m \u001b[1;33m=\u001b[0m \u001b[0mtf\u001b[0m\u001b[1;33m.\u001b[0m\u001b[0mclip_by_value\u001b[0m\u001b[1;33m(\u001b[0m\u001b[0mdistances\u001b[0m\u001b[1;33m)\u001b[0m\u001b[1;33m\u001b[0m\u001b[0m\n\u001b[0m",
      "\u001b[1;31mTypeError\u001b[0m: clip_by_value() takes at least 3 arguments (1 given)"
     ]
    }
   ],
   "source": [
    "#distances = tf.clip_by_value(distances, 0.0, MAX_DIST)\n",
    "distances = tf.clip_by_value(distances)"
   ]
  },
  {
   "cell_type": "code",
   "execution_count": 152,
   "metadata": {
    "collapsed": false
   },
   "outputs": [],
   "source": [
    "kern = ((std_dev ** 2) * tf.exp(-distances / 2.0))"
   ]
  },
  {
   "cell_type": "code",
   "execution_count": 153,
   "metadata": {
    "collapsed": false
   },
   "outputs": [
    {
     "data": {
      "text/plain": [
       "<tf.Tensor 'mul_22:0' shape=(5, 5) dtype=float32>"
      ]
     },
     "execution_count": 153,
     "metadata": {},
     "output_type": "execute_result"
    }
   ],
   "source": [
    "kern"
   ]
  },
  {
   "cell_type": "code",
   "execution_count": 154,
   "metadata": {
    "collapsed": false
   },
   "outputs": [],
   "source": [
    "kernel_nondiag = kern + white_noise"
   ]
  },
  {
   "cell_type": "code",
   "execution_count": 155,
   "metadata": {
    "collapsed": false
   },
   "outputs": [
    {
     "data": {
      "text/plain": [
       "<tf.Tensor 'add_16:0' shape=(5, 5) dtype=float32>"
      ]
     },
     "execution_count": 155,
     "metadata": {},
     "output_type": "execute_result"
    }
   ],
   "source": [
    "kernel_nondiag"
   ]
  },
  {
   "cell_type": "code",
   "execution_count": 156,
   "metadata": {
    "collapsed": false
   },
   "outputs": [],
   "source": [
    "kernel_diag = ((std_dev ** 2) + white) * tf.ones([tf.shape(points1)[0]])"
   ]
  },
  {
   "cell_type": "code",
   "execution_count": 157,
   "metadata": {
    "collapsed": false
   },
   "outputs": [
    {
     "data": {
      "text/plain": [
       "<tf.Tensor 'mul_23:0' shape=(?,) dtype=float32>"
      ]
     },
     "execution_count": 157,
     "metadata": {},
     "output_type": "execute_result"
    }
   ],
   "source": [
    "kernel_diag"
   ]
  },
  {
   "cell_type": "code",
   "execution_count": 158,
   "metadata": {
    "collapsed": false
   },
   "outputs": [],
   "source": [
    "kernel_chol = tf.cholesky(kernel_nondiag)"
   ]
  },
  {
   "cell_type": "code",
   "execution_count": 159,
   "metadata": {
    "collapsed": true
   },
   "outputs": [],
   "source": [
    "chol_inverse = tf.matrix_inverse(kernel_chol)"
   ]
  },
  {
   "cell_type": "code",
   "execution_count": 160,
   "metadata": {
    "collapsed": false
   },
   "outputs": [],
   "source": [
    "sess = tf.Session()\n",
    "init = tf.global_variables_initializer()\n",
    "sess.run(init)"
   ]
  },
  {
   "cell_type": "code",
   "execution_count": 165,
   "metadata": {
    "collapsed": false
   },
   "outputs": [
    {
     "name": "stdout",
     "output_type": "stream",
     "text": [
      "kernel\n",
      "[[ 1.5         0.96252692  0.98870081  0.95556396  0.69427294]\n",
      " [ 0.96252692  1.5         0.99213988  0.84621835  0.84621793]\n",
      " [ 0.98870081  0.99213988  1.5         0.90278566  0.78077483]\n",
      " [ 0.95556396  0.84621835  0.90278566  1.5         0.51277786]\n",
      " [ 0.69427294  0.84621793  0.78077483  0.51277786  1.5       ]]\n",
      "cholesky\n",
      "[[ 1.22474492  0.          0.          0.          0.        ]\n",
      " [ 0.78589994  0.93934089  0.          0.          0.        ]\n",
      " [ 0.80727082  0.38080508  0.83863062  0.          0.        ]\n",
      " [ 0.78021467  0.248097    0.21280469  0.88567895  0.        ]\n",
      " [ 0.56687146  0.42659026  0.19163181 -0.08594471  0.97599608]]\n",
      "Tensor(\"Cholesky_5:0\", shape=(5, 5), dtype=float32)\n",
      "inverse of cholesky\n",
      "[[ 0.81649655  0.          0.          0.          0.        ]\n",
      " [-0.68312222  1.06457627  0.          0.          0.        ]\n",
      " [-0.47577259 -0.4834024   1.19242013  0.          0.        ]\n",
      " [-0.41359836 -0.18206133 -0.2865063   1.12907732  0.        ]\n",
      " [-0.11865699 -0.38642552 -0.25935486  0.09942481  1.02459431]]\n",
      "Tensor(\"MatrixInverse:0\", shape=(5, 5), dtype=float32)\n"
     ]
    }
   ],
   "source": [
    "#print(\"distance\")\n",
    "#print distances.eval(session=sess)\n",
    "print(\"kernel\")\n",
    "print kernel_nondiag.eval(session=sess)\n",
    "print(\"cholesky\")\n",
    "print kernel_chol.eval(session=sess)\n",
    "print kernel_chol\n",
    "print(\"inverse of cholesky\")\n",
    "print chol_inverse.eval(session=sess)\n",
    "print chol_inverse"
   ]
  },
  {
   "cell_type": "code",
   "execution_count": 162,
   "metadata": {
    "collapsed": false
   },
   "outputs": [
    {
     "data": {
      "text/plain": [
       "<tf.Tensor 'add_16:0' shape=(5, 5) dtype=float32>"
      ]
     },
     "execution_count": 162,
     "metadata": {},
     "output_type": "execute_result"
    }
   ],
   "source": [
    "#kernel_nondiag"
   ]
  },
  {
   "cell_type": "code",
   "execution_count": null,
   "metadata": {
    "collapsed": true
   },
   "outputs": [],
   "source": []
  }
 ],
 "metadata": {
  "kernelspec": {
   "display_name": "Python 2",
   "language": "python",
   "name": "python2"
  },
  "language_info": {
   "codemirror_mode": {
    "name": "ipython",
    "version": 2
   },
   "file_extension": ".py",
   "mimetype": "text/x-python",
   "name": "python",
   "nbconvert_exporter": "python",
   "pygments_lexer": "ipython2",
   "version": "2.7.13"
  }
 },
 "nbformat": 4,
 "nbformat_minor": 0
}
