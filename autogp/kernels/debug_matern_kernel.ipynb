{
 "cells": [
  {
   "cell_type": "code",
   "execution_count": 184,
   "metadata": {
    "collapsed": true
   },
   "outputs": [],
   "source": [
    "import numpy as np\n",
    "import tensorflow as tf\n",
    "import math\n",
    "import matplotlib.pyplot as plt\n",
    "\n",
    "import kernel"
   ]
  },
  {
   "cell_type": "code",
   "execution_count": 185,
   "metadata": {
    "collapsed": true
   },
   "outputs": [],
   "source": [
    "def eye(N):\n",
    "    return tf.diag(tf.ones(tf.stack([N, ]), dtype='float32'))"
   ]
  },
  {
   "cell_type": "code",
   "execution_count": 186,
   "metadata": {
    "collapsed": true
   },
   "outputs": [],
   "source": [
    "# Generate synthetic data.\n",
    "N_all = 200\n",
    "N = 5\n",
    "inputs = 5 * np.linspace(0, 1, num=N_all)[:, np.newaxis]\n",
    "outputs = np.sin(inputs)\n",
    "\n",
    "# selects training and test\n",
    "idx = np.arange(N_all)\n",
    "np.random.shuffle(idx)\n",
    "xtrain = inputs[idx[:N]]\n",
    "ytrain = outputs[idx[:N]]"
   ]
  },
  {
   "cell_type": "code",
   "execution_count": 187,
   "metadata": {
    "collapsed": true
   },
   "outputs": [],
   "source": [
    "inducing_inputs = xtrain\n",
    "points1 = inducing_inputs\n",
    "points2 = points1"
   ]
  },
  {
   "cell_type": "code",
   "execution_count": 219,
   "metadata": {
    "collapsed": false
   },
   "outputs": [
    {
     "data": {
      "text/plain": [
       "array([[ 2.06030151],\n",
       "       [ 2.33668342],\n",
       "       [ 2.21105528],\n",
       "       [ 1.75879397],\n",
       "       [ 2.91457286]])"
      ]
     },
     "execution_count": 219,
     "metadata": {},
     "output_type": "execute_result"
    }
   ],
   "source": [
    "points1 = np.array([[2.06030151], [2.33668342],[2.21105528],[1.75879397], [2.91457286]])\n",
    "points2 = np.array([[2.06030151], [2.33668342],[2.21105528],[1.75879397], [2.91457286]])\n",
    "points1"
   ]
  },
  {
   "cell_type": "code",
   "execution_count": 189,
   "metadata": {
    "collapsed": true
   },
   "outputs": [],
   "source": [
    "input_dim = 1\n",
    "lengthscale = 1.0\n",
    "std_dev=1.0\n",
    "white=0.5\n",
    "input_scaling=False\n",
    "MAX_DIST = 1e8"
   ]
  },
  {
   "cell_type": "code",
   "execution_count": 190,
   "metadata": {
    "collapsed": false
   },
   "outputs": [],
   "source": [
    "if input_scaling:\n",
    "    lengthscale = tf.Variable(lengthscale * tf.ones([input_dim]))\n",
    "else:\n",
    "    lengthscale = tf.Variable([lengthscale], dtype=tf.float32)\n",
    "\n",
    "std_dev = tf.Variable([std_dev], dtype=tf.float32)"
   ]
  },
  {
   "cell_type": "code",
   "execution_count": 191,
   "metadata": {
    "collapsed": false
   },
   "outputs": [],
   "source": [
    "if all(points2) == all(points1):\n",
    "    white_noise = white * eye(tf.shape(points1)[0]) \n",
    "else: \n",
    "    white_noise = 0.0  "
   ]
  },
  {
   "cell_type": "code",
   "execution_count": 192,
   "metadata": {
    "collapsed": false
   },
   "outputs": [],
   "source": [
    "#white_noise\n",
    "#lengthscale"
   ]
  },
  {
   "cell_type": "code",
   "execution_count": 193,
   "metadata": {
    "collapsed": false
   },
   "outputs": [],
   "source": [
    "#white_noise"
   ]
  },
  {
   "cell_type": "code",
   "execution_count": 194,
   "metadata": {
    "collapsed": false
   },
   "outputs": [],
   "source": [
    "#lengthscale = tf.cast(lengthscale, tf.float64)\n",
    "#lengthscale"
   ]
  },
  {
   "cell_type": "code",
   "execution_count": 195,
   "metadata": {
    "collapsed": false
   },
   "outputs": [],
   "source": [
    "points1 = points1 / lengthscale * lengthscale\n",
    "#points1"
   ]
  },
  {
   "cell_type": "code",
   "execution_count": 196,
   "metadata": {
    "collapsed": true
   },
   "outputs": [],
   "source": [
    "points2 = points2 / lengthscale * lengthscale"
   ]
  },
  {
   "cell_type": "code",
   "execution_count": 197,
   "metadata": {
    "collapsed": false
   },
   "outputs": [],
   "source": [
    "#points2"
   ]
  },
  {
   "cell_type": "code",
   "execution_count": 198,
   "metadata": {
    "collapsed": false
   },
   "outputs": [],
   "source": [
    "#tf.reduce_sum(points1 ** 2, 1)"
   ]
  },
  {
   "cell_type": "code",
   "execution_count": 199,
   "metadata": {
    "collapsed": false
   },
   "outputs": [],
   "source": [
    "magnitude_square1 = tf.expand_dims(tf.reduce_sum(points1 ** 2, 1), 1)\n",
    "magnitude_square2 = tf.expand_dims(tf.reduce_sum(points2 ** 2, 1), 1)\n",
    "#magnitude_square2"
   ]
  },
  {
   "cell_type": "code",
   "execution_count": 200,
   "metadata": {
    "collapsed": true
   },
   "outputs": [],
   "source": [
    "#doppio_prodotto = - 2 * tf.matmul(points1, tf.transpose(points2))"
   ]
  },
  {
   "cell_type": "code",
   "execution_count": 201,
   "metadata": {
    "collapsed": true
   },
   "outputs": [],
   "source": [
    "#distances_prima_parte = magnitude_square1 + doppio_prodotto"
   ]
  },
  {
   "cell_type": "code",
   "execution_count": 202,
   "metadata": {
    "collapsed": false
   },
   "outputs": [],
   "source": [
    "distances = (magnitude_square1 \n",
    "             - 2 * tf.matmul(points1, tf.transpose(points2)) +\n",
    "            tf.transpose(magnitude_square2))\n",
    "#distances"
   ]
  },
  {
   "cell_type": "code",
   "execution_count": 203,
   "metadata": {
    "collapsed": false
   },
   "outputs": [],
   "source": [
    "distances_root = tf.sqrt(distances)/lengthscale\n",
    "#distances_root"
   ]
  },
  {
   "cell_type": "code",
   "execution_count": 204,
   "metadata": {
    "collapsed": false
   },
   "outputs": [],
   "source": [
    "distances = tf.clip_by_value(distances, 0.0, MAX_DIST)"
   ]
  },
  {
   "cell_type": "code",
   "execution_count": 205,
   "metadata": {
    "collapsed": false
   },
   "outputs": [],
   "source": [
    "#distances_root"
   ]
  },
  {
   "cell_type": "code",
   "execution_count": 206,
   "metadata": {
    "collapsed": true
   },
   "outputs": [],
   "source": [
    "constant = tf.sqrt(3.0)"
   ]
  },
  {
   "cell_type": "code",
   "execution_count": 207,
   "metadata": {
    "collapsed": false
   },
   "outputs": [],
   "source": [
    "first_term=(constant*distances_root + 1)*std_dev\n",
    "#first_term"
   ]
  },
  {
   "cell_type": "code",
   "execution_count": 208,
   "metadata": {
    "collapsed": false
   },
   "outputs": [],
   "source": [
    "second_term = tf.exp(-constant*distances_root)\n",
    "#second_term"
   ]
  },
  {
   "cell_type": "code",
   "execution_count": 209,
   "metadata": {
    "collapsed": false
   },
   "outputs": [],
   "source": [
    "kernel_matrix = tf.multiply(first_term,second_term)"
   ]
  },
  {
   "cell_type": "code",
   "execution_count": 210,
   "metadata": {
    "collapsed": false
   },
   "outputs": [],
   "source": [
    "#kernel_matrix"
   ]
  },
  {
   "cell_type": "code",
   "execution_count": 211,
   "metadata": {
    "collapsed": false
   },
   "outputs": [],
   "source": [
    "kernel_nondiag = kernel_matrix + white_noise"
   ]
  },
  {
   "cell_type": "code",
   "execution_count": 212,
   "metadata": {
    "collapsed": false
   },
   "outputs": [],
   "source": [
    "#kernel_nondiag"
   ]
  },
  {
   "cell_type": "code",
   "execution_count": 213,
   "metadata": {
    "collapsed": false
   },
   "outputs": [],
   "source": [
    "kernel_diag = ((std_dev ** 2) + white) * tf.ones([tf.shape(points1)[0]])"
   ]
  },
  {
   "cell_type": "code",
   "execution_count": 214,
   "metadata": {
    "collapsed": false
   },
   "outputs": [],
   "source": [
    "#kernel_diag"
   ]
  },
  {
   "cell_type": "code",
   "execution_count": 215,
   "metadata": {
    "collapsed": false
   },
   "outputs": [],
   "source": [
    "kernel_chol = tf.cholesky(kernel_nondiag)"
   ]
  },
  {
   "cell_type": "code",
   "execution_count": 216,
   "metadata": {
    "collapsed": true
   },
   "outputs": [],
   "source": [
    "chol_inverse = tf.matrix_inverse(kernel_chol)"
   ]
  },
  {
   "cell_type": "code",
   "execution_count": 217,
   "metadata": {
    "collapsed": false
   },
   "outputs": [],
   "source": [
    "sess = tf.Session()\n",
    "init = tf.global_variables_initializer()\n",
    "sess.run(init)"
   ]
  },
  {
   "cell_type": "code",
   "execution_count": 222,
   "metadata": {
    "collapsed": false
   },
   "outputs": [
    {
     "name": "stdout",
     "output_type": "stream",
     "text": [
      "kernel\n",
      "[[ 1.5         0.91618353  0.97130114  0.90298194  0.56466204]\n",
      " [ 0.91618353  1.5         0.97949588  0.73541546  0.73541504]\n",
      " [ 0.97130114  0.97949588  1.5         0.81476802  0.65594113]\n",
      " [ 0.90298194  0.73541546  0.81476802  1.5         0.40550056]\n",
      " [ 0.56466204  0.73541504  0.65594113  0.40550056  1.5       ]]\n",
      "cholesky\n",
      "[[ 1.22474492  0.          0.          0.          0.        ]\n",
      " [ 0.7480607   0.96974492  0.          0.          0.        ]\n",
      " [ 0.79306406  0.39828601  0.84404838  0.          0.        ]\n",
      " [ 0.73728162  0.18962102  0.18308558  0.94177455  0.        ]\n",
      " [ 0.46104461  0.40270972  0.15391247 -0.04136929  1.04874325]]\n",
      "Tensor(\"Cholesky_5:0\", shape=(5, 5), dtype=float32)\n",
      "inverse of cholesky\n",
      "[[ 0.81649655  0.          0.          0.          0.        ]\n",
      " [-0.62984502  1.03119898  0.          0.          0.        ]\n",
      " [-0.46996784 -0.48659787  1.18476617  0.          0.        ]\n",
      " [-0.42102614 -0.11302911 -0.23032436  1.06182528  0.        ]\n",
      " [-0.06472533 -0.32901886 -0.18296055  0.04188533  0.95352221]]\n",
      "Tensor(\"MatrixInverse:0\", shape=(5, 5), dtype=float32)\n"
     ]
    }
   ],
   "source": [
    "#print(\"questo è il primo punto\")\n",
    "#print points1.eval(session=sess)\n",
    "#print(\"questo è il vettore al quadrato, magnitude_square1\")\n",
    "#print magnitude_square1.eval(session=sess)\n",
    "#print magnitude_square2.eval(session=sess)\n",
    "#print(\"questo è il doppio prodotto\")\n",
    "#print doppio_prodotto.eval(session=sess)\n",
    "#print(\"prima parte distanza\")\n",
    "#print distances_prima_parte.eval(session=sess)\n",
    "#print(\"questa è la distanza al quadrato\")\n",
    "#print distances.eval(session=sess)\n",
    "#print(\"questa è la square root\")\n",
    "#print distances_root.eval(session=sess)\n",
    "#print(\"è il primo termine\")\n",
    "#print first_term.eval(session=sess)\n",
    "#print(\"questo è il secondo termine\")\n",
    "#print second_term.eval(session=sess)\n",
    "print(\"kernel\")\n",
    "print kernel_nondiag.eval(session=sess)\n",
    "print(\"cholesky\")\n",
    "print kernel_chol.eval(session=sess)\n",
    "print kernel_chol\n",
    "print(\"inverse of cholesky\")\n",
    "print chol_inverse.eval(session=sess)\n",
    "print chol_inverse"
   ]
  },
  {
   "cell_type": "code",
   "execution_count": 183,
   "metadata": {
    "collapsed": false
   },
   "outputs": [],
   "source": [
    "#kernel_nondiag"
   ]
  },
  {
   "cell_type": "code",
   "execution_count": null,
   "metadata": {
    "collapsed": true
   },
   "outputs": [],
   "source": []
  }
 ],
 "metadata": {
  "kernelspec": {
   "display_name": "Python 2",
   "language": "python",
   "name": "python2"
  },
  "language_info": {
   "codemirror_mode": {
    "name": "ipython",
    "version": 2
   },
   "file_extension": ".py",
   "mimetype": "text/x-python",
   "name": "python",
   "nbconvert_exporter": "python",
   "pygments_lexer": "ipython2",
   "version": "2.7.13"
  }
 },
 "nbformat": 4,
 "nbformat_minor": 0
}
